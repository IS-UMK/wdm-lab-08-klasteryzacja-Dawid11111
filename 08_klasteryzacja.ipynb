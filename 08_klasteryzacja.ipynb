{
 "cells": [
  {
   "cell_type": "markdown",
   "metadata": {
    "toc": true
   },
   "source": [
    "<h1>Table of Contents<span class=\"tocSkip\"></span></h1>\n",
    "<div class=\"toc\"><ul class=\"toc-item\"><li><span><a href=\"#Analiza-skupień-(klasteryzacja)\" data-toc-modified-id=\"Analiza-skupień-(klasteryzacja)-1\"><span class=\"toc-item-num\">1&nbsp;&nbsp;</span>Analiza skupień (klasteryzacja)</a></span><ul class=\"toc-item\"><li><span><a href=\"#Metody-klasteryzacji\" data-toc-modified-id=\"Metody-klasteryzacji-1.1\"><span class=\"toc-item-num\">1.1&nbsp;&nbsp;</span>Metody klasteryzacji</a></span></li><li><span><a href=\"#Metoda-k-średnich-(K-means)\" data-toc-modified-id=\"Metoda-k-średnich-(K-means)-1.2\"><span class=\"toc-item-num\">1.2&nbsp;&nbsp;</span>Metoda k-średnich (K-means)</a></span><ul class=\"toc-item\"><li><span><a href=\"#Algorytm-k-średnich\" data-toc-modified-id=\"Algorytm-k-średnich-1.2.1\"><span class=\"toc-item-num\">1.2.1&nbsp;&nbsp;</span>Algorytm k-średnich</a></span></li></ul></li><li><span><a href=\"#Generowanie-sztucznych--danych\" data-toc-modified-id=\"Generowanie-sztucznych--danych-1.3\"><span class=\"toc-item-num\">1.3&nbsp;&nbsp;</span>Generowanie sztucznych  danych</a></span></li><li><span><a href=\"#k-średnich:-inicjalizacja\" data-toc-modified-id=\"k-średnich:-inicjalizacja-1.4\"><span class=\"toc-item-num\">1.4&nbsp;&nbsp;</span>k-średnich: inicjalizacja</a></span></li><li><span><a href=\"#k-średnich:-aktualizacja-położeń-prototypów\" data-toc-modified-id=\"k-średnich:-aktualizacja-położeń-prototypów-1.5\"><span class=\"toc-item-num\">1.5&nbsp;&nbsp;</span>k-średnich: aktualizacja położeń prototypów</a></span></li><li><span><a href=\"#k-średnich:-pełen-algorytm\" data-toc-modified-id=\"k-średnich:-pełen-algorytm-1.6\"><span class=\"toc-item-num\">1.6&nbsp;&nbsp;</span>k-średnich: pełen algorytm</a></span><ul class=\"toc-item\"><li><span><a href=\"#Ćwiczenie\" data-toc-modified-id=\"Ćwiczenie-1.6.1\"><span class=\"toc-item-num\">1.6.1&nbsp;&nbsp;</span>Ćwiczenie</a></span></li></ul></li><li><span><a href=\"#Metoda-łokcia\" data-toc-modified-id=\"Metoda-łokcia-1.7\"><span class=\"toc-item-num\">1.7&nbsp;&nbsp;</span>Metoda łokcia</a></span></li><li><span><a href=\"#k-średnich-w-scikit-learn\" data-toc-modified-id=\"k-średnich-w-scikit-learn-1.8\"><span class=\"toc-item-num\">1.8&nbsp;&nbsp;</span>k-średnich w scikit-learn</a></span></li><li><span><a href=\"#Grupowanie-hierarchiczne\" data-toc-modified-id=\"Grupowanie-hierarchiczne-1.9\"><span class=\"toc-item-num\">1.9&nbsp;&nbsp;</span>Grupowanie hierarchiczne</a></span></li><li><span><a href=\"#Miary-podobieństwa-klastrów\" data-toc-modified-id=\"Miary-podobieństwa-klastrów-1.10\"><span class=\"toc-item-num\">1.10&nbsp;&nbsp;</span>Miary podobieństwa klastrów</a></span></li><li><span><a href=\"#Dane:-sejm-2019\" data-toc-modified-id=\"Dane:-sejm-2019-1.11\"><span class=\"toc-item-num\">1.11&nbsp;&nbsp;</span>Dane: sejm 2019</a></span><ul class=\"toc-item\"><li><span><a href=\"#Metoda-pojedynczego-wiązania\" data-toc-modified-id=\"Metoda-pojedynczego-wiązania-1.11.1\"><span class=\"toc-item-num\">1.11.1&nbsp;&nbsp;</span>Metoda pojedynczego wiązania</a></span></li><li><span><a href=\"#Metoda-pełnego-łączenia\" data-toc-modified-id=\"Metoda-pełnego-łączenia-1.11.2\"><span class=\"toc-item-num\">1.11.2&nbsp;&nbsp;</span>Metoda pełnego łączenia</a></span></li><li><span><a href=\"#Metoda-średnich-połączeń\" data-toc-modified-id=\"Metoda-średnich-połączeń-1.11.3\"><span class=\"toc-item-num\">1.11.3&nbsp;&nbsp;</span>Metoda średnich połączeń</a></span></li></ul></li><li><span><a href=\"#Klasteryzacja-hierachiczna-w-scikit-learn\" data-toc-modified-id=\"Klasteryzacja-hierachiczna-w-scikit-learn-1.12\"><span class=\"toc-item-num\">1.12&nbsp;&nbsp;</span>Klasteryzacja hierachiczna w scikit-learn</a></span></li><li><span><a href=\"#Dane:-dwa-księżyce\" data-toc-modified-id=\"Dane:-dwa-księżyce-1.13\"><span class=\"toc-item-num\">1.13&nbsp;&nbsp;</span>Dane: dwa księżyce</a></span><ul class=\"toc-item\"><li><span><a href=\"#Ćwiczenie\" data-toc-modified-id=\"Ćwiczenie-1.13.1\"><span class=\"toc-item-num\">1.13.1&nbsp;&nbsp;</span>Ćwiczenie</a></span></li></ul></li><li><span><a href=\"#Grupowanie-bazujące-na-gęstości\" data-toc-modified-id=\"Grupowanie-bazujące-na-gęstości-1.14\"><span class=\"toc-item-num\">1.14&nbsp;&nbsp;</span>Grupowanie bazujące na gęstości</a></span></li><li><span><a href=\"#Zadanie---Grupowanie-zwierząt\" data-toc-modified-id=\"Zadanie---Grupowanie-zwierząt-1.15\"><span class=\"toc-item-num\">1.15&nbsp;&nbsp;</span>Zadanie - Grupowanie zwierząt</a></span></li></ul></li></ul></div>"
   ]
  },
  {
   "cell_type": "markdown",
   "metadata": {
    "slideshow": {
     "slide_type": "slide"
    }
   },
   "source": [
    "# Analiza skupień (klasteryzacja)\n",
    "\n",
    "\n",
    "Zadaniem **analizy skupień** (ang. *clustering*) jest znalezienie naturalnych zgrupowań danych, w których elementy danej grupy (klastra) wykazują większe podobieństwo wzajemne od elementów innej grupy. \n",
    "\n",
    "---\n",
    "\n",
    "<div><center>\n",
    "<img src=\"attachment:d8a64136-cca6-46ff-b350-1518ab8af351.png\" width=\"500\"/>\n",
    "    </center>\n",
    "</div>"
   ]
  },
  {
   "cell_type": "markdown",
   "metadata": {
    "slideshow": {
     "slide_type": "subslide"
    }
   },
   "source": [
    "Grupowanie odbywa się wyłącznie na podstawie informacji zawartych w zmiennych opisujących obiekty. W przypadku  metod klasyfikacji lub regresji, które poznaliśmy na poprzednich zajęciach, dla każdego wektora treningowego posiadaliśmy informację o pożądanej wartości wyjściowej (np. etykiecie klasy). Są to tzw. metody **nadzorowane** (*supervised*), gdyż proces uczenia może być w każdym momencie oceniony a informacja o błędach jest wykorzystywana do skorygowania modelu w celu minimalizacji tego błędu. W analizie skupień nie posiadamy takiej informacji zwrotnej, dlatego takie metody nazywamy **nienadzorowanymi** (*unsupervised*). Przyporządkowanie do grup (klastrów) a nawet ilość tych grup jest informacją, którą klasteryzacja ma za zadanie odkryć."
   ]
  },
  {
   "cell_type": "markdown",
   "metadata": {
    "slideshow": {
     "slide_type": "slide"
    }
   },
   "source": [
    "## Metody klasteryzacji \n",
    "\n",
    "* metoda k-średnich  <br> [sklearn.cluster.KMeans](https://scikit-learn.org/stable/modules/generated/sklearn.cluster.KMeans.html)\n",
    "* grupowanie hierarchiczne  <br> [sklearn.cluster.AgglomerativeClustering](https://scikit-learn.org/stable/modules/generated/sklearn.cluster.AgglomerativeClustering.html) <br> [scipy.cluster.hierarchy.linkage](https://docs.scipy.org/doc/scipy/reference/generated/scipy.cluster.hierarchy.linkage.html)\n",
    "* grupowanie gęstościowe (metoda DBSCAN) <br> [sklearn.cluster.DBSCAN](https://scikit-learn.org/stable/modules/generated/sklearn.cluster.DBSCAN.html)"
   ]
  },
  {
   "cell_type": "markdown",
   "metadata": {
    "slideshow": {
     "slide_type": "slide"
    }
   },
   "source": [
    "## Metoda k-średnich (K-means)\n",
    "\n",
    "Metoda $k$-średnich reprezentuje każdą grupę za pomocą prototypu (centroidy). Dane dzielone są na $k$ rozdzielnych grup, gdzie każdy obiekt danych wejściowych jest przypisany do jednaj z $k$ centroid znajdującej się w najmniejszej odległości od tego obiektu. \n",
    "\n",
    "<div><center>\n",
    "<img src=\"attachment:8c0e0aea-ef02-4a9e-a684-3b07f32527a1.png\" width=\"500\"/>\n",
    "    </center>\n",
    "</div>"
   ]
  },
  {
   "cell_type": "markdown",
   "metadata": {
    "slideshow": {
     "slide_type": "slide"
    }
   },
   "source": [
    "### Algorytm k-średnich\n",
    "\n",
    "Dla danych $k$ prototypów algorytm znajdowania grup sprowadza się do powtarzania iteracyjnego następujących kroków:\n",
    "1. Przydziel każdą próbkę $\\vec{x}$ do najbliższej centroidy\n",
    "2. Wyznacz środek punktów przydzielonych do centroidy i przesuń tam centroidę\n",
    "\n",
    "Budując model należy określić liczbę klastrów $k$ oraz wybrać miarę podobieństwa obiektów, czyli metrykę. Przykładem może być odległość Euklidesa \n",
    "\n",
    "$$ d(\\vec{x}, \\vec{y}) = \\sum_{i=1}^d (x_i - y_i)^2 $$\n",
    "\n",
    "Początkowe pozycje centroid są losowe (można wybrać w tym celu  $k$ losowych próbek ze zbioru uczącego). Pozycja startowa ma wpływ na uzyskany wynik, więc ponowne uruchomienie algorytmu może zaowocować uzyskaniem odmiennego podziału.  Może się zdarzyć, że prototyp nie posiada żadnego obiektu w swoim zasięgu, więc sposób inicjowania pozycji prototypów jest istotny."
   ]
  },
  {
   "cell_type": "markdown",
   "metadata": {
    "slideshow": {
     "slide_type": "slide"
    }
   },
   "source": [
    "## Generowanie sztucznych  danych "
   ]
  },
  {
   "cell_type": "code",
   "execution_count": null,
   "metadata": {},
   "outputs": [],
   "source": [
    "import numpy as np\n",
    "import matplotlib.pyplot as plt\n",
    "\n",
    "# ustalmy ziarno losowania aby oblicznia były powtarzalne\n",
    "np.random.seed(8)\n",
    "\n",
    "# wylosujmy środki losowanych grup (k=3)\n",
    "centrs = np.random.rand(3, 2)\n",
    "\n",
    "# ilość wektorów w grupie\n",
    "num = 50\n",
    "std = 0.07\n",
    "\n",
    "#wylosujmy zbiór punktów z rozkładu normalnego\n",
    "X = np.vstack([\n",
    "    np.random.normal(centrs[0], [std, std], (num, 2)),\n",
    "    np.random.normal(centrs[1], [std, std], (num, 2)),\n",
    "    np.random.normal(centrs[2], [std, std], (num, 2)),\n",
    "                 ])"
   ]
  },
  {
   "cell_type": "code",
   "execution_count": null,
   "metadata": {
    "slideshow": {
     "slide_type": "slide"
    }
   },
   "outputs": [],
   "source": [
    "plt.figure(figsize=(10,10))\n",
    "plt.scatter(X[:, 0], X[:, 1], c='white', marker='o', edgecolor='black', s=50)\n",
    "plt.grid()\n",
    "plt.show()"
   ]
  },
  {
   "cell_type": "markdown",
   "metadata": {
    "slideshow": {
     "slide_type": "-"
    }
   },
   "source": [
    "Wygenerowane dane składają się z 3 grup puntów, jednak załóżmy, że tego nie wiemy a algorytm k-średnich posłuży nam aby odkryć te skupiska. "
   ]
  },
  {
   "cell_type": "markdown",
   "metadata": {
    "slideshow": {
     "slide_type": "slide"
    }
   },
   "source": [
    "## k-średnich: inicjalizacja\n",
    "\n",
    "Spróbujmy pogrupować dane na 3 klastry. Wylosujmy położenia 3 wektorów prototypowych."
   ]
  },
  {
   "cell_type": "code",
   "execution_count": null,
   "metadata": {},
   "outputs": [],
   "source": [
    "np.random.seed(3)\n",
    "k = 3 \n",
    "C = np.random.rand(k, 2)\n",
    "\n",
    "# narysujmy pozycje prototypów\n",
    "plt.figure(figsize=(8,8))\n",
    "plt.scatter(X[:, 0], X[:, 1], c='white', marker='o', edgecolor='black', s=50, label='Punkty danych')\n",
    "plt.scatter(C[:, 0], C[:, 1], marker='*', c='red', edgecolor='black', label='Centroidy', s=200)\n",
    "plt.legend(scatterpoints=1)\n",
    "plt.grid()\n",
    "plt.show()"
   ]
  },
  {
   "cell_type": "markdown",
   "metadata": {
    "slideshow": {
     "slide_type": "slide"
    }
   },
   "source": [
    "Przypiszmy każdy wektor danych wejściowych do najbliższego prototypu stosując odległość Euklidesową."
   ]
  },
  {
   "cell_type": "code",
   "execution_count": null,
   "metadata": {},
   "outputs": [],
   "source": [
    "from scipy.spatial import distance  # pakiet do obliczeń odległości\n",
    "\n",
    "y = np.zeros(len(X))   # wektor przypisujący indeks próbki -> indeks centroidy (grupy)\n",
    "for i, s_i in enumerate(X):\n",
    "    dists = []\n",
    "    for c_i in C:\n",
    "        dists.append(distance.euclidean(s_i, c_i ))\n",
    "    y[i] = np.argmin(dists)    # przypiszmy indeks najbliższej centroidy"
   ]
  },
  {
   "cell_type": "markdown",
   "metadata": {
    "slideshow": {
     "slide_type": "slide"
    }
   },
   "source": [
    "narysujmy wykres rozrzutu z pogrupowanymi danymi"
   ]
  },
  {
   "cell_type": "code",
   "execution_count": null,
   "metadata": {
    "slideshow": {
     "slide_type": "-"
    }
   },
   "outputs": [],
   "source": [
    "def plot_clusters(X, C, y):\n",
    "\n",
    "    plt.figure(figsize=(8,8))\n",
    "    for i in range(len(C)):\n",
    "        plt.scatter(X[y==i, 0], X[y==i, 1] , marker='o', edgecolor='black', s=50, label='Grupa %d' % (i+1))\n",
    "    plt.scatter(C[:, 0], C[:, 1], marker='*', c='red', edgecolor='black', label='Centroidy', s=200)\n",
    "    plt.legend(scatterpoints=1)\n",
    "    plt.grid()\n",
    "    plt.show()\n",
    "\n",
    "plot_clusters(X, C, y)"
   ]
  },
  {
   "cell_type": "markdown",
   "metadata": {
    "slideshow": {
     "slide_type": "slide"
    }
   },
   "source": [
    "Poniższa komórka robi dokładnie to samo ale używa nieco bardziej zoptymalizowanej formy zastępując pętlę pythona  odpowiednimi funkcjami z bibliotek scipy i numpy"
   ]
  },
  {
   "cell_type": "code",
   "execution_count": null,
   "metadata": {},
   "outputs": [],
   "source": [
    "# funkcja cdist() wyznacza odległości pomiędzy wszystkimi parami wektorów (wierszy) X i C\n",
    "dists = distance.cdist(X, C, metric='euclidean')\n",
    "\n",
    "# wyznaczamy wektor indeksów najbliższych prototypów\n",
    "y = np.argmin(dists, axis=1) # wykonaj funkcje argmin 'po wierszach' (czyli os numer 1)\n",
    "\n",
    "plot_clusters(X, C, y)"
   ]
  },
  {
   "cell_type": "markdown",
   "metadata": {
    "slideshow": {
     "slide_type": "slide"
    }
   },
   "source": [
    "## k-średnich: aktualizacja położeń prototypów\n",
    "\n",
    "Początkowe pozycje centroid zostały wybrane losowo, więc podział jest daleki od idealnego.\n",
    "\n",
    "Dokonajmy aktualizacji położeń prototypów przesuwając je w środek punktów należących do grupy wektorów przypisanych poszczególnym prototypom"
   ]
  },
  {
   "cell_type": "code",
   "execution_count": null,
   "metadata": {},
   "outputs": [],
   "source": [
    "C_old = C.copy()\n",
    "\n",
    "# wyznaczenie środka grup i aktualizacja położeń centroidów\n",
    "for i in range(len(C)):\n",
    "    C[i] = np.mean(X[y==i], axis=0)\n",
    "\n",
    "dists = distance.cdist(X, C, metric='euclidean')\n",
    "y = np.argmin(dists, axis=1) \n",
    "\n",
    "plt.figure(figsize=(8,8))\n",
    "for i in range(len(C)):\n",
    "    plt.scatter(X[y==i, 0], X[y==i, 1] , marker='o', edgecolor='black', s=50, label='Grupa %d' % (i+1))\n",
    "plt.scatter(C_old[:, 0], C_old[:, 1], marker='*', c='blue', edgecolor='black', label='Poprzednie położenie', s=200)\n",
    "plt.scatter(C[:, 0], C[:, 1], marker='*', c='red', edgecolor='black', label='Centroidy', s=200)\n",
    "plt.legend(scatterpoints=1)\n",
    "plt.grid()\n",
    "plt.show()"
   ]
  },
  {
   "cell_type": "markdown",
   "metadata": {
    "slideshow": {
     "slide_type": "slide"
    }
   },
   "source": [
    "Uruchommy kilkukrotnie oba kroki, tzn. podział na grupy i aktualizację położenia centroid."
   ]
  },
  {
   "cell_type": "code",
   "execution_count": null,
   "metadata": {
    "slideshow": {
     "slide_type": ""
    }
   },
   "outputs": [],
   "source": [
    "np.random.seed(3)\n",
    "k = 3 \n",
    "C = np.random.rand(k, 2)\n",
    "\n",
    "for k in range(5):\n",
    "    \n",
    "    # podzial wektorow na grupy\n",
    "    dists = distance.cdist(X, C, metric='euclidean')\n",
    "    y = np.argmin(dists, axis=1) \n",
    "    \n",
    "    print('Krok %d, średnia odległość od centroidy = %.3f' % (k+1, np.mean(np.min(dists, axis=1))))\n",
    "    \n",
    "    # aktualizacja pozycji\n",
    "    for j in range(len(C)):\n",
    "        C[j] = np.mean(X[y==j], axis=0)\n",
    "\n",
    "    # rysowanie wykresu\n",
    "    plot_clusters(X, C, y)"
   ]
  },
  {
   "cell_type": "markdown",
   "metadata": {},
   "source": [
    "Widać, że algorytm się zbiega i po pewnym czasie można oczekiwać, że położenia centroid przestaną się zmieniać. "
   ]
  },
  {
   "cell_type": "markdown",
   "metadata": {
    "slideshow": {
     "slide_type": "slide"
    }
   },
   "source": [
    "## k-średnich: pełen algorytm\n",
    "\n",
    "Algorytm gotowy, zapiszmy go w postaci funkcji ``kmeans``.  \n",
    "Funkcja przyjmuje następujące argumenty: \n",
    "* `X` dane wejściowe, \n",
    "* `k` ilość grup, \n",
    "* `max_iter` maksymalna ilość kroków, \n",
    "* `min_improvement` określa miejsce przerwania, gdy kolejna aktualizacja będzie mniejsza od tego progu.  \n",
    "\n",
    "Funkcja zwraca dwie wartości: \n",
    "* wektor `y` określający przynależność każdego przypadku z `X` do jednej z `k` grup, \n",
    "* macierz `C` zawierającą położenia centroid"
   ]
  },
  {
   "cell_type": "code",
   "execution_count": null,
   "metadata": {},
   "outputs": [],
   "source": [
    "def kmeans(X, k, max_iters = 100, min_improvement=0.01):\n",
    "    prev_dist = 0\n",
    "    \n",
    "    # inicjalizacja centroid, ustawmy początkowe położenie prototypów w miejsc k wylosowanych\n",
    "    # wektorów z X, w ten sposób gwarantujemy, że każdy centroid ma przynajmniej jeden najbliższy \n",
    "    # wektor treningowy\n",
    "    idx = np.random.choice(len(X), k)\n",
    "    C = X[idx, :].copy()\n",
    "    dists = distance.cdist(X, C, metric='euclidean')\n",
    "    y = np.argmin(dists, axis=1) \n",
    "    \n",
    "    for x in range(max_iters):\n",
    "        \n",
    "        for i in range(len(C)):\n",
    "            if len(X[y==i]) > 0:\n",
    "                C[i] = np.mean(X[y==i], axis=0)\n",
    "        \n",
    "        dists = distance.cdist(X, C, metric='euclidean')\n",
    "        y = np.argmin(dists, axis=1) \n",
    "        \n",
    "        curr_dist = np.mean(np.min(dists, axis=1))\n",
    "        \n",
    "        if curr_dist - prev_dist < min_improvement:\n",
    "            break  # jeśli nie robimy już poprawek po co kontynuować\n",
    "\n",
    "    return y, C       "
   ]
  },
  {
   "cell_type": "markdown",
   "metadata": {
    "slideshow": {
     "slide_type": "slide"
    }
   },
   "source": [
    "### Ćwiczenie\n",
    "\n",
    "Porównaj wyniki metody k-średnich uzyskiwane z użyciem 2, 3, 4, 5 prototypów.  "
   ]
  },
  {
   "cell_type": "code",
   "execution_count": null,
   "metadata": {},
   "outputs": [],
   "source": [
    "# rozwiązanie \n",
    "\n",
    "\n"
   ]
  },
  {
   "cell_type": "markdown",
   "metadata": {},
   "source": [
    "Podstawowym problemem metody $k$-średnich jest odpowiedni wybór wartości $k$. Zazwyczaj nie wiemy jaka będzie optymalna wartość. W powyższych 3 uruchomieniach algorytmu dla $k=2,3,4$ z uzyskanych wykresów widać, że podział na 4 grupy jest nieuzasadniony. Dodatkowo, dwie chmury punktów widoczne na wykresie po prawej mogą być równie dobrze uważane za pojedynczy klaster. W przypadku wielowymiarowych danych, gdzie nie jesteśmy w stanie wizualnie określić jakości podziału, dobór odpowiedniej wartości `k` możemy wykonać za pomocą **metody łokcia**. "
   ]
  },
  {
   "cell_type": "markdown",
   "metadata": {
    "slideshow": {
     "slide_type": "slide"
    }
   },
   "source": [
    "## Metoda łokcia\n",
    "\n",
    "Metoda łokcia polega na stworzeniu wykresu zależności `k` od wartości zniekształcenia zdefiniowanego jako suma odległości punktów z grupy od swojej centroidy. Zniekształcenie to zwane jest **wewnątrzgrupową sumą kwadratów błędów** (SSE, *within-cluster sum of squared errors*) lub **bezwładnością klastra**.\n",
    "\n",
    "$$SSE = \\sum_{i=1}^n \\sum_{j=1}^k \\delta_{ij}\\big|\\big|\\vec{x}^{(i)} - \\vec{c}^{(j)}\\big|\\big|^2$$\n",
    "gdzie $\\delta_{ij}=1$, gdy obiekt $\\vec{x}^{(i)}$ należy do grupy określonej przez centroid $\\vec{c}^{(j)}$. W przeciwnym razie $\\delta_{ij}=0$.\n",
    "\n",
    "Im mniejsza jest wartość zniekształcenia SSE tym bardziej zwarte są klastry, tzn. odległość punktów do centroid jest mała. \n",
    "Łatwo zauważyć, że ze wzrostem ilości centroid `k` wartość SSE będzie malała. W ekstremalnym przypadku, gdyby liczba centroid równała się liczbie przypadków treningowych i każdy z nich tworzyłby swoją grupę, otrzymujemy $SSE=0$. "
   ]
  },
  {
   "cell_type": "markdown",
   "metadata": {
    "slideshow": {
     "slide_type": "slide"
    }
   },
   "source": [
    "Jeżeli wykreślimy zależność `k` od SSE dla metody k-średnich to możemy określić miejsce w którym wartość SSE najmocniej wzrasta (_łokieć_ na wykresie), tam znajduje się dobra wartość $k$. "
   ]
  },
  {
   "cell_type": "code",
   "execution_count": null,
   "metadata": {
    "slideshow": {
     "slide_type": "-"
    }
   },
   "outputs": [],
   "source": [
    "numClusters = [1, 2, 3, 4, 5, 6, 7, 8, 9, 10]\n",
    "SSE = []\n",
    "\n",
    "for k in numClusters:\n",
    "   y, C = kmeans(X, k=k)\n",
    "   dists = distance.cdist(X, C, metric='euclidean')\n",
    "   sse = np.sum(np.min(dists, axis=1))\n",
    "   SSE.append(sse)\n",
    "\n",
    "plt.plot(numClusters, SSE)\n",
    "plt.xlabel('Ilość grup')\n",
    "plt.ylabel('SSE')\n",
    "plt.show()"
   ]
  },
  {
   "cell_type": "markdown",
   "metadata": {},
   "source": [
    "W tym przypadku wartość $k=3$ jest odpowiednia, to tu zgina się _łokieć_. Dodanie kolejnych centroid nie zmniejsza istotnie SSE, więc nowe klastery (dla k>3) nie wnoszą istotnej informacji."
   ]
  },
  {
   "cell_type": "markdown",
   "metadata": {
    "slideshow": {
     "slide_type": "slide"
    }
   },
   "source": [
    "## k-średnich w scikit-learn\n",
    "\n",
    "Algorytm $k$-średnich jest też zaimplementowany w pakiecie `scikit-learn`. Do  dyspozycji mamy klasę  `sklearn.cluster.KMeans`.\n",
    "Dopasowanie modelu na danych treningowych sprowadza się do wywołania metody `fit()` tak samo jak to było w przypadku metod regresji i klasyfikacji. \n",
    "Argument `n_init=10` powoduje 10-cio krotne powtórzenie algorytmu z różnymi początkowymi położeniami centroid. Ostatecznie wybierany jest z tych 10-ciu podział o najmniejszym SSE.\n",
    "\n"
   ]
  },
  {
   "cell_type": "code",
   "execution_count": null,
   "metadata": {},
   "outputs": [],
   "source": [
    "from sklearn.cluster import KMeans\n",
    "\n",
    "k_means = KMeans(n_clusters=3, n_init=10)\n",
    "\n",
    "# dopasowanie modelu do danych\n",
    "k_means.fit(X)\n",
    "\n",
    "# przypisanie do grup \n",
    "y = k_means.predict(X)\n",
    "print(y)"
   ]
  },
  {
   "cell_type": "code",
   "execution_count": null,
   "metadata": {
    "slideshow": {
     "slide_type": "slide"
    }
   },
   "outputs": [],
   "source": [
    "# położenie centroid\n",
    "C = k_means.cluster_centers_\n",
    "\n",
    "# wartość zniekształcenia SSE\n",
    "SSE = k_means.inertia_\n",
    "print(f'SSE={SSE}')\n",
    "\n",
    "plot_clusters(X, C, y)"
   ]
  },
  {
   "cell_type": "markdown",
   "metadata": {
    "slideshow": {
     "slide_type": "slide"
    }
   },
   "source": [
    "Ponownie zastosujmy metodę łokcia dla tego algorytmu"
   ]
  },
  {
   "cell_type": "code",
   "execution_count": null,
   "metadata": {},
   "outputs": [],
   "source": [
    "from sklearn.cluster import KMeans\n",
    "\n",
    "numClusters = [1, 2, 3, 4, 5, 6]\n",
    "SSE = []\n",
    "for k in numClusters:\n",
    "    k_means = KMeans(n_clusters=k, n_init=10)\n",
    "    k_means.fit(X)\n",
    "    SSE.append(k_means.inertia_)\n",
    "\n",
    "plt.figure(figsize=(20,8))\n",
    "plt.plot(numClusters, SSE)\n",
    "plt.xlabel('Ilość grup')\n",
    "plt.ylabel('SSE')\n",
    "plt.show()"
   ]
  },
  {
   "cell_type": "markdown",
   "metadata": {
    "slideshow": {
     "slide_type": "slide"
    }
   },
   "source": [
    "## Grupowanie hierarchiczne\n",
    "\n",
    "**Metody hierarchiczne** nie wymagają odgórnego ustalenia liczby klastrów `k` lecz polegają na przyrostowym tworzeniu podziałów na grupy. Skupmy się na podejściu **aglomeracyjnym** (*agglomerative*), czyli wzrostowym. Metoda ta rozpoczyna od przydzielenia każdej próbki do osobnego klastra. Następnie dwa najbardziej podobne skupiska łączymy w jedną grupę. Powtarzamy tę procedurę, aż do momentu uzyskania pojedynczego klastra zawierającego wszystkie przypadki. W ten sposób uzyskujemy drzewo klastrów, które możemy zwizualizaować za pomocą **dendrogramu**, wykresu drzewa podziałów. Poniższy obrazek prezentuje sposób hierarchicznego łączenia próbek w klastry. Ostatni rysunek prezentuje wynikowe drzewo - dendrogram."
   ]
  },
  {
   "attachments": {
    "image.png": {
     "image/png": "[encoded data removed]"
    }
   },
   "cell_type": "markdown",
   "metadata": {},
   "source": [
    "![image.png](attachment:image.png)"
   ]
  },
  {
   "cell_type": "markdown",
   "metadata": {
    "slideshow": {
     "slide_type": "slide"
    }
   },
   "source": [
    "## Miary podobieństwa klastrów\n",
    "\n",
    "W zależności od sposobu określania podobieństwa między skupiskami możemy wyróżnić różne odmiany klasteryzacji hierarchicznej. \n",
    "Przyjrzyjmy się 3 podstawowym podejściom:\n",
    "1. **metoda pojedynczego wiązania** (*single link*), gdzie odległość miedzy skupiskami określona jest przez minimalną odległość pomiędzy parą przypadków z różnych grup. Skuteczna dla wyraźnie oddzielonych grup.\n",
    "2. **metoda pełnego wiązania** (*complete link*), gdzie odległość między klastrami zależy od największej odległości między parami przypadków. Problemy, gdy wystepują dane ostające.\n",
    "3. **metoda średnich połączeń** (*group average*), odległość mierzona między środkami punktów zawartych w klastrach\n",
    "\n",
    "Poniższy rysunek obrazuje różnicę między metodą pojedynczego wiązania a metodą pełnego wiązania."
   ]
  },
  {
   "cell_type": "markdown",
   "metadata": {},
   "source": [
    "<div><center>\n",
    "<img src=\"attachment:740a740f-4d7d-4ccd-894f-d5d6eed5f39b.png\" width=\"500\"/></center>\n",
    "</div>"
   ]
  },
  {
   "cell_type": "markdown",
   "metadata": {
    "slideshow": {
     "slide_type": "slide"
    }
   },
   "source": [
    "## Dane: sejm 2019\n",
    "\n",
    "Tym razem wykorzystajmy do grupowania dane pochodzące ze strony Państwowej Komisji Wyborczej zawierające procentowe wyniki uzyskane przez komitety wyborcze w wyborach do Sejmu w 2019 roku. Plik z danymi znajduje się w repozytorium w katalogu [dane/sejm_2019.csv](dane/sejm_2019.csv)\n"
   ]
  },
  {
   "cell_type": "code",
   "execution_count": null,
   "metadata": {},
   "outputs": [],
   "source": [
    "import pandas as pd\n",
    "sejm = pd.read_csv('dane/sejm_2019.csv')\n",
    "sejm"
   ]
  },
  {
   "cell_type": "markdown",
   "metadata": {
    "slideshow": {
     "slide_type": "slide"
    }
   },
   "source": [
    "Weźmy do analizy tylko wyniki procentowe komitetów wyborczych (kolumny od 8 do 18) i sprawdźmy, jak grupują się wyniki dla województw."
   ]
  },
  {
   "cell_type": "code",
   "execution_count": null,
   "metadata": {},
   "outputs": [],
   "source": [
    "X = sejm.iloc[:, 8:]\n",
    "labels = sejm.Województwo.to_list()\n",
    "X"
   ]
  },
  {
   "cell_type": "markdown",
   "metadata": {
    "slideshow": {
     "slide_type": "slide"
    }
   },
   "source": [
    "### Metoda pojedynczego wiązania\n",
    "\n",
    "Tym razem użyjemy implementacji algorytmu dostępnego w pakiecie `scipy`. Stworzenie modelu wymaga uruchomienie funkcji [scipy.cluster.hierarchy.linkage](https://docs.scipy.org/doc/scipy/reference/generated/scipy.cluster.hierarchy.linkage.html).\n",
    "Wartością zwracaną z tej funkcji jest macierz wiązania, którą możemy użyć jako argument funkcji [scipy.cluster.hierarchy.dendrogram](https://docs.scipy.org/doc/scipy/reference/generated/scipy.cluster.hierarchy.dendrogram.html#scipy.cluster.hierarchy.dendrogram) do zwizualizowania drzewa skupień"
   ]
  },
  {
   "cell_type": "code",
   "execution_count": null,
   "metadata": {},
   "outputs": [],
   "source": [
    "from  scipy.cluster import hierarchy \n",
    "\n",
    "Z = hierarchy.linkage(X, 'single')\n",
    "plt.figure(figsize=(10,6))\n",
    "dn = hierarchy.dendrogram(Z, labels=labels, orientation='right')"
   ]
  },
  {
   "cell_type": "markdown",
   "metadata": {},
   "source": [
    "Wartości na osi poziomej to odległości pomiędzy klastrami. W zależności od wyboru tej wartości uzyskujemy podział na inną liczbę klastrów. Kolory widoczne na dendrogramie wyróżniają grupy uzyskane dla różnych progów podziału. Dla odległości 8 otrzymujemy 2 wyraźne klastry i jeden przypadek (woj. opolskie), który nie został zaliczony do żadnej z tych grup przy tej odległości."
   ]
  },
  {
   "cell_type": "markdown",
   "metadata": {
    "slideshow": {
     "slide_type": "slide"
    }
   },
   "source": [
    "Zobaczmy jak wygląda macierz wiązania, która posłużyła do stworzenia dendrogramu."
   ]
  },
  {
   "cell_type": "code",
   "execution_count": null,
   "metadata": {},
   "outputs": [],
   "source": [
    "print(Z)"
   ]
  },
  {
   "cell_type": "markdown",
   "metadata": {},
   "source": [
    "Każdy wiersz macierzy określa jedno wiązanie skupisk. Pierwsze 2 kolumny określają identyfikatory łączonych klastrów, trzecia kolumna to odległość a czwarta kolumna zawiera liczebność uzyskanego klastra. Pierwszy klaster łączy 2 wektory (podlaskie i małopolskie) a ostatni klaster łączy wszystkie 16 województw."
   ]
  },
  {
   "cell_type": "markdown",
   "metadata": {
    "slideshow": {
     "slide_type": "slide"
    }
   },
   "source": [
    "### Metoda pełnego łączenia\n",
    "\n",
    "Zmieńmy metrykę określającą odległość miedzy grupami. Argument `complete` powoduje, że miarą podobieństwa jest największa odległość między sąsiadami"
   ]
  },
  {
   "cell_type": "code",
   "execution_count": null,
   "metadata": {},
   "outputs": [],
   "source": [
    "Z = hierarchy.linkage(X, 'complete')\n",
    "plt.figure(figsize=(10,6))\n",
    "dn = hierarchy.dendrogram(Z, labels=labels, orientation='right')"
   ]
  },
  {
   "cell_type": "markdown",
   "metadata": {},
   "source": [
    "Tym razem uzyskujemy podział na 2 wyraźne grupy przy odległości 20, zaś przy głębokości 15 otrzymujemy 3 klastry."
   ]
  },
  {
   "cell_type": "markdown",
   "metadata": {
    "slideshow": {
     "slide_type": "slide"
    }
   },
   "source": [
    "### Metoda średnich połączeń"
   ]
  },
  {
   "cell_type": "code",
   "execution_count": null,
   "metadata": {},
   "outputs": [],
   "source": [
    "Z = hierarchy.linkage(X, 'average')\n",
    "plt.figure(figsize=(10,6))\n",
    "dn = hierarchy.dendrogram(Z, labels=labels, orientation='right')"
   ]
  },
  {
   "cell_type": "markdown",
   "metadata": {
    "slideshow": {
     "slide_type": "slide"
    }
   },
   "source": [
    "W celu zobrazowania, które zmienne odgrywają istotną rolę w podziale hierarchicznym można zestawić dendrogram z mapą cieplną (*heat map*) macierzy danych wejściowych. Wykonajmy to dla modelu klasteryzacji hierarchicznej z pełnym wiązaniem (*complete*)"
   ]
  },
  {
   "cell_type": "code",
   "execution_count": null,
   "metadata": {},
   "outputs": [],
   "source": [
    "row_clusters = hierarchy.linkage(X, method='complete', metric='euclidean')\n",
    "\n",
    "# rysujemy dendrogram\n",
    "fig = plt.figure(figsize=(8, 8), facecolor='white')\n",
    "axd = fig.add_axes([0.09, 0.1, 0.2, 0.6])\n",
    "\n",
    "# uwaga: dla matplotlib < v1.5.1 należy użyć tu orientation='right'\n",
    "row_dendr = hierarchy.dendrogram(row_clusters, labels=labels, orientation='left')\n",
    "\n",
    "# zamiana kolejności zmiennych w danych tak aby pasowały do kolejności liści dendrogramu\n",
    "df_rowclust = X.iloc[row_dendr['leaves'][::-1]]\n",
    "\n",
    "# usuwamy ramkę z wykresu\n",
    "for i in axd.spines.values():\n",
    "    i.set_visible(False)\n",
    "\n",
    "# wykres mapy cieplnej\n",
    "axm = fig.add_axes([0.45, 0.1, 0.6, 0.6])  # x-pos, y-pos, width, height\n",
    "cax = axm.matshow(df_rowclust, interpolation='nearest', cmap='hot_r')\n",
    " \n",
    "names = X.columns.tolist()\n",
    "axm.set_xticks(np.arange(len(names)))\n",
    "axm.set_yticks([])\n",
    "axm.set_xticklabels(labels=names, rotation=90, ha=\"left\")\n",
    "fig.colorbar(cax)\n",
    "plt.show()"
   ]
  },
  {
   "cell_type": "markdown",
   "metadata": {},
   "source": [
    "Jak można było się spodziewać wartości 2 zmiennych są tu decydujące i ich wartości wyraźnie korelują z podziałem na grupy oznaczone różnymi kolorami na dendrogramie. "
   ]
  },
  {
   "cell_type": "markdown",
   "metadata": {
    "slideshow": {
     "slide_type": "slide"
    }
   },
   "source": [
    "## Klasteryzacja hierachiczna w scikit-learn\n",
    "\n",
    "Pakiet `scikit-learn` oczywiście posiada swoje wersje algorytmów hierarchicznego grupowania, jednak ze względu na brak możliwości łatwego wyrysowania dendrogramu skorzystaliśmy z pakietu `scipy`. W pakiecie `scikit-learn` algorytm ten realizowany jest przez obiekt [sklearn.cluster.AgglomerativeClustering](https://scikit-learn.org/stable/modules/generated/sklearn.cluster.AgglomerativeClustering.html).\n",
    "Argument `n_clusters` pozwala wybrać liczbę docelowych klastrów (miejsce podziału drzewa). Następnie metoda `fit_predict()` buduje drzewo i dokonuje przypisania danych do grup."
   ]
  },
  {
   "cell_type": "code",
   "execution_count": null,
   "metadata": {},
   "outputs": [],
   "source": [
    "from sklearn.cluster import AgglomerativeClustering\n",
    "\n",
    "ac = AgglomerativeClustering(n_clusters=2, metric='euclidean', linkage='complete')\n",
    "y_pred = ac.fit_predict(X)\n",
    "\n",
    "print('Uzyskane grupy: %s' % y_pred)\n",
    "\n",
    "for grupa in np.unique(y_pred):\n",
    "    print('Grupa %d : %s' % (grupa, str(np.array(labels)[y_pred==grupa])))"
   ]
  },
  {
   "cell_type": "markdown",
   "metadata": {},
   "source": [
    "Zauważ, że obiekt `AggloremativeClustering`nie posiada metody ``predict(X)``, nie jest to model predykcyjny. W odróżnieniu od k-średnich, który jest pełnoprawnym klasyfikatorem i możemy za jego pomocą dokonać klasyfikacji nowych przypadków metodą `predict(X)`. "
   ]
  },
  {
   "cell_type": "markdown",
   "metadata": {
    "slideshow": {
     "slide_type": "slide"
    }
   },
   "source": [
    "## Dane: dwa księżyce\n",
    "\n",
    "Demonstrację działania tego algorytmu przeprowadźmy na danych zawierających dwa księżyce."
   ]
  },
  {
   "cell_type": "code",
   "execution_count": null,
   "metadata": {
    "scrolled": true
   },
   "outputs": [],
   "source": [
    "from sklearn.datasets import make_moons\n",
    "import matplotlib.pyplot as plt\n",
    "\n",
    "X, y = make_moons(n_samples=200, noise=0.05, random_state=0)\n",
    "\n",
    "plt.figure(figsize=(8,8))\n",
    "plt.scatter(X[:, 0], X[:, 1])\n",
    "plt.show()"
   ]
  },
  {
   "cell_type": "markdown",
   "metadata": {
    "slideshow": {
     "slide_type": "slide"
    }
   },
   "source": [
    "### Ćwiczenie\n",
    "\n",
    "Przeprowadź analizę skupień danych \"dwa księżyce\" z użyciem metody k-średnich i/lub klasteryzacji hierarchicznej i spróbuj wyodrębnić księżyce jako osobne grypy. "
   ]
  },
  {
   "cell_type": "code",
   "execution_count": null,
   "metadata": {},
   "outputs": [],
   "source": [
    "# rozwiązanie k-means\n",
    "\n",
    "\n"
   ]
  },
  {
   "cell_type": "code",
   "execution_count": null,
   "metadata": {
    "slideshow": {
     "slide_type": "notes"
    }
   },
   "outputs": [],
   "source": [
    "ac = AgglomerativeClustering(n_clusters=2,\n",
    "                             affinity='euclidean',\n",
    "                             linkage='complete')\n",
    "y = ac.fit_predict(X)\n",
    "for i in np.unique(y):\n",
    "    plt.scatter(X[y == i, 0], X[y == i, 1], marker='o', s=40, edgecolor='black', label='Grupa %s' % (i+1))\n",
    "\n",
    "plt.legend()\n",
    "plt.title('Grupowanie hierarchiczne')\n",
    "plt.show()"
   ]
  },
  {
   "cell_type": "markdown",
   "metadata": {
    "slideshow": {
     "slide_type": "slide"
    }
   },
   "source": [
    "## Grupowanie bazujące na gęstości\n",
    "\n",
    "Grupowanie gęstościowe wydziela w postaci klastrów obszary o wysokiej gęstości puntów. \n",
    "Jednym z popularniejszych algorytmów w tej kategorii jest **DBSCAN**, który określa gęstość danych na podstawie liczności próbek występujących w określonym promieniu. Lokalne sąsiedztwo algorytmu DBSCAN określone jest przez 2 parametry: promień sąsiedztwa (`eps`) oraz minimalną liczbę obserwacji znajdujących się w otoczeniu (`min_samples`).\n",
    "Algorytm dzieli przypadki na 2 grupy:\n",
    "1. **wektory rdzenne** (*code points*), które w promieniu `eps` posiadają co najmniej `min_samples` sąsiadów\n",
    "2. **wektory graniczne** (*border points*), które nie posiadają minimalnej liczby sąsiadów zasięgu promienia `eps` ale leżą w sąsiedztwie (w zasięgu promienia) wektora rdzennego\n",
    "3. **szum** (*noise points*), wszystkie pozostałe punkty, które nie są ani rdzenne ani graniczne\n",
    "\n",
    "Wszystkie wektory rdzenne leżące w odległości mniejszej niż promień `eps` od siebie łączone są w klaster. \n",
    "Wektory graniczne przypisywane są do klastra najbliższego wektora rdzennego.\n",
    "Poniższy obrazek prezentuje w jaki sposób powstaje podział na punkty rdzenne, graniczne i szum.\n"
   ]
  },
  {
   "cell_type": "markdown",
   "metadata": {},
   "source": [
    "<div><center>\n",
    "<img src=\"attachment:94c125e9-439f-458e-8b97-89f98bdf93b0.png\" width=\"600\"/></center>\n",
    "</div>"
   ]
  },
  {
   "cell_type": "markdown",
   "metadata": {
    "slideshow": {
     "slide_type": "slide"
    }
   },
   "source": [
    "Zobaczmy jak poradzi sobie metoda DBSCAN  ([sklearn.cluster.DBSCAN](https://scikit-learn.org/stable/modules/generated/sklearn.cluster.DBSCAN.html))"
   ]
  },
  {
   "cell_type": "code",
   "execution_count": null,
   "metadata": {},
   "outputs": [],
   "source": [
    "from sklearn.cluster import DBSCAN\n",
    "\n",
    "db = DBSCAN(eps=0.2, min_samples=5, metric='euclidean')\n",
    "y = db.fit_predict(X)\n",
    "\n",
    "for i in np.unique(y):\n",
    "    plt.scatter(X[y == i, 0], X[y == i, 1], marker='o', s=40, edgecolor='black', label='Grupa id=%s' % i)\n",
    "\n",
    "plt.legend()\n",
    "plt.show()"
   ]
  },
  {
   "cell_type": "markdown",
   "metadata": {
    "slideshow": {
     "slide_type": "slide"
    }
   },
   "source": [
    "Dobór parametrów metody nie jest prostym zadaniem. Zobaczmy co się stanie, gdy zmniejszymy promień `eps`."
   ]
  },
  {
   "cell_type": "code",
   "execution_count": null,
   "metadata": {},
   "outputs": [],
   "source": [
    "from sklearn.cluster import DBSCAN\n",
    "\n",
    "db = DBSCAN(eps=0.14, min_samples=5, metric='euclidean')\n",
    "y = db.fit_predict(X)\n",
    "  \n",
    "plt.figure(figsize=(10,10))\n",
    "for i in np.unique(y):\n",
    "    plt.scatter(X[y == i, 0], X[y == i, 1], marker='o', s=40, edgecolor='black', label='Grupa %s' % i)\n",
    "\n",
    "plt.legend()\n",
    "plt.show()"
   ]
  },
  {
   "cell_type": "markdown",
   "metadata": {},
   "source": [
    "Wykryte zostały 3 grupy (0, 1, 2). Przypadki oznaczone etykietą `y=-1` to wektory oznaczone jako szum. "
   ]
  },
  {
   "cell_type": "markdown",
   "metadata": {
    "slideshow": {
     "slide_type": "slide"
    }
   },
   "source": [
    "## Zadanie - Grupowanie zwierząt\n",
    "\n",
    "Wykonaj analizę skupień dla zbioru danych `zoo`. Plik z danymi znajduje się w katalogu repozytorium [dane/zoo_nc.csv](dane/zoo_nc.csv) i jest zgodny z formatem CSV. Pierwszy wiersz pliku zawiera nazwy zmiennych.\n",
    "\n",
    "Dane zawierają 101 przypadków zwierząt opisanych 17 zmiennymi:\n",
    "- pierwsza kolumna `animal_name` to nazwa zwierzaka\n",
    "- 15 zmiennych ma wartości binarne oznaczające występowanie danej cechy u zwierzęcia, np. `hair`, `feathers`, `eggs`, `milk`, itd. \n",
    "- zmienna `legs` określa ilość nóg i posiada wartości od 0 do 8\n",
    "\n",
    "Przeprowadź analizę skupień zbioru danych znajdując istotnie różniące sie grupy zwierząt. Spodziewamy się, że wyodrębnione grupy będą odzwierciedlały podział zwierząt na gromady: ssaki, gady, płazy, ptaki, ..."
   ]
  },
  {
   "cell_type": "markdown",
   "metadata": {
    "slideshow": {
     "slide_type": "slide"
    }
   },
   "source": [
    "1. Wczytaj dane i przygotuj zbiór uczący według poniższych instrukcji:\n",
    "  - zmienna `animal_name` zawiera nazwy zwierząt, unikatowe dla kazdego przypadku. Usuń tą zmienną ze zbioru uczącego.\n",
    "  - zmienna `legs` określa liczbę nóg i przyjmuje wartości całkowite z zakresu od 0 do 8, których zakres znacznie odbiega od zakresu pozostałych zmiennych o wartościach binarnych. Zamień zmienną kategoryczną `legs` za pomocą kodowania `one-hot` na zestaw zmiennych binarnych. Przydatna może być funkcja [pandas.get_dummies](https://pandas.pydata.org/pandas-docs/stable/reference/api/pandas.get_dummies.html) lub transfromer danych [sklearn.preprocessing.OneHotEncoder](https://scikit-learn.org/stable/modules/generated/sklearn.preprocessing.OneHotEncoder.html)\n",
    "  - usuń wartości brakujące jeśli istnieją.\n",
    "\n",
    "Wynikowy zbiór uczący powinien zawierać wyłącznie wartości binarne $\\{0,1\\}$ we wszystkich zmiennych .  "
   ]
  },
  {
   "cell_type": "code",
   "execution_count": 2,
   "metadata": {},
   "outputs": [
    {
     "name": "stdout",
     "output_type": "stream",
     "text": [
      "Czy wszystkie wartości są binarne? True\n",
      "   hair  feathers  eggs  milk  airborne  aquatic  predator  toothed  backbone  \\\n",
      "0     1         0     0     1         0        0         1        1         1   \n",
      "1     1         0     0     1         0        0         0        1         1   \n",
      "2     0         0     1     0         0        1         1        1         1   \n",
      "3     1         0     0     1         0        0         1        1         1   \n",
      "4     1         0     0     1         0        0         1        1         1   \n",
      "\n",
      "   breathes  ...  fins  tail  domestic  catsize  legs_0  legs_2  legs_4  \\\n",
      "0         1  ...     0     0         0        1       0       0       1   \n",
      "1         1  ...     0     1         0        1       0       0       1   \n",
      "2         0  ...     1     1         0        0       1       0       0   \n",
      "3         1  ...     0     0         0        1       0       0       1   \n",
      "4         1  ...     0     1         0        1       0       0       1   \n",
      "\n",
      "   legs_5  legs_6  legs_8  \n",
      "0       0       0       0  \n",
      "1       0       0       0  \n",
      "2       0       0       0  \n",
      "3       0       0       0  \n",
      "4       0       0       0  \n",
      "\n",
      "[5 rows x 21 columns]\n"
     ]
    },
    {
     "name": "stderr",
     "output_type": "stream",
     "text": [
      "C:\\Users\\Dawid Kempa\\AppData\\Local\\Temp\\ipykernel_22464\\2136072221.py:15: FutureWarning: DataFrame.applymap has been deprecated. Use DataFrame.map instead.\n",
      "  print(\"Czy wszystkie wartości są binarne?\", df_encoded.applymap(lambda x: x in [0, 1]).all().all())\n"
     ]
    }
   ],
   "source": [
    "import pandas as pd\n",
    "from sklearn.preprocessing import OneHotEncoder\n",
    "\n",
    "df = pd.read_csv(\"dane/zoo_nc.csv\") \n",
    "\n",
    "df = df.drop(columns=['animal_name'])\n",
    "\n",
    "encoder = OneHotEncoder(sparse_output=False, dtype=int)\n",
    "legs_encoded = encoder.fit_transform(df[['legs']])\n",
    "legs_encoded_df = pd.DataFrame(legs_encoded, columns=[f'legs_{int(cat)}' for cat in encoder.categories_[0]])\n",
    "\n",
    "df = df.drop(columns=['legs']) #usuniecie oryginału\n",
    "df_encoded = pd.concat([df.reset_index(drop=True), legs_encoded_df.reset_index(drop=True)], axis=1)\n",
    "\n",
    "print(\"Czy wszystkie wartości są binarne?\", df_encoded.applymap(lambda x: x in [0, 1]).all().all())\n",
    "\n",
    "print(df_encoded.head())\n"
   ]
  },
  {
   "cell_type": "markdown",
   "metadata": {
    "slideshow": {
     "slide_type": "slide"
    }
   },
   "source": [
    "2. Wykonaj analizę skupień w celu znalezienia naturalnych grup w zbiorze zwierząt za pomocą *JEDNEJ* z poniższych metod:\n",
    "   1. Metoda k-średnich - wyznacz optymalną liczbę klastrów za pomocą metody łokcia \n",
    "   2. Grupowanie hierarchiczne metodą łączenia zupełnego lub metodą połączeń średnich. Wyświetl dendrogram i na jego podstawie wybierz liczbę skupisk. Przypisz zwierzęta ze zbioru uczącego do tych skupisk.  \n",
    "   3. Metoda DBSCAN - zastosuj metrykę `manhattan`, `cityblock` lub `hamming`. W przypadku danych binarnych metryki te obliczają liczbę różniących się bitów. Dobierz promień `eps` tak aby uzyskać nie mniej niż 2 i nie więcej niż 7 grup zwierząt przy jak najmniejszej liczbie szumu. Minimalna liczebność grup nie powinna być mniejsza niż 5."
   ]
  },
  {
   "cell_type": "code",
   "execution_count": null,
   "metadata": {},
   "outputs": [
    {
     "data": {
      "image/png": "[encoded data removed]",
      "text/plain": [
       "<Figure size 800x500 with 1 Axes>"
      ]
     },
     "metadata": {},
     "output_type": "display_data"
    },
    {
     "name": "stdout",
     "output_type": "stream",
     "text": [
      "Zwierzęta przypisane do klastrów:\n",
      "    animal_name  cluster\n",
      "0          bass        0\n",
      "1          carp        0\n",
      "2          chub        0\n",
      "3       catfish        0\n",
      "4          frog        0\n",
      "..          ...      ...\n",
      "96     starfish        3\n",
      "97         slug        3\n",
      "98      termite        3\n",
      "99         wasp        3\n",
      "100        worm        3\n",
      "\n",
      "[101 rows x 2 columns]\n",
      "\n",
      "Liczba zwierząt w każdym klastrze:\n",
      "cluster\n",
      "0    24\n",
      "1    39\n",
      "2    20\n",
      "3    18\n",
      "Name: count, dtype: int64\n"
     ]
    }
   ],
   "source": [
    "import matplotlib.pyplot as plt\n",
    "import seaborn as sns\n",
    "from sklearn.cluster import KMeans\n",
    "import pandas as pd\n",
    "\n",
    "animal_names = pd.read_csv(\"dane/zoo_nc.csv\")[\"animal_name\"]\n",
    "\n",
    "inertia = []\n",
    "k_range = range(1, 11)\n",
    "\n",
    "for k in k_range:\n",
    "    kmeans = KMeans(n_clusters=k, random_state=42, n_init=10)\n",
    "    kmeans.fit(df_encoded)\n",
    "    inertia.append(kmeans.inertia_)\n",
    "\n",
    "plt.figure(figsize=(8, 5))\n",
    "sns.lineplot(x=list(k_range), y=inertia, marker='o')\n",
    "plt.title(\"Metoda łokcia\")\n",
    "plt.xlabel(\"Liczba klastrów (k)\")\n",
    "plt.ylabel(\"Inercja (suma kwadratów odległości)\")\n",
    "plt.grid(True)\n",
    "plt.show()\n",
    "\n",
    "\n",
    "optimal_k = 4\n",
    "\n",
    "kmeans = KMeans(n_clusters=optimal_k, random_state=42, n_init=10)\n",
    "clusters = kmeans.fit_predict(df_encoded)\n",
    "\n",
    "results = pd.DataFrame({\n",
    "    \"animal_name\": animal_names,\n",
    "    \"cluster\": clusters\n",
    "})\n",
    "\n",
    "print(\"Zwierzęta przypisane do klastrów:\")\n",
    "print(results.sort_values(by=\"cluster\").reset_index(drop=True))\n",
    "\n",
    "print(\"\\nLiczba zwierząt w każdym klastrze:\")\n",
    "print(results[\"cluster\"].value_counts().sort_index())"
   ]
  },
  {
   "cell_type": "markdown",
   "metadata": {
    "slideshow": {
     "slide_type": "slide"
    }
   },
   "source": [
    "3. Dla każdej grupy zwierząt uzyskanej w wyniku analizy skupień z poprzediego punktu wyznacz:\n",
    "   * liczbę zwierząt w grupie \n",
    "   * nazwy zwierząt w grupie\n",
    "   * procentową zawartość ssaków w grupie. Informację o tym, do jakiej gromady należą zwierzęta odczytasz z pliku [dane/zoo_classes.csv](dane/zoo_classes.csv). Zmienna ``class_type`` przybiera dla ssaków wartość 1, zaś zmienna ``class_name`` zawiera nazwę gromady i w przypadku ssaków posiada wartość ``Mammal``  "
   ]
  },
  {
   "cell_type": "code",
   "execution_count": 8,
   "metadata": {},
   "outputs": [
    {
     "name": "stdout",
     "output_type": "stream",
     "text": [
      "\n",
      "Grupa 0\n",
      "Liczba zwierząt: 26\n",
      "Zwierzęta: bass, carp, catfish, chub, dogfish, dolphin, frog, frog, frog, frog, haddock, herring, newt, pike, piranha, pitviper, porpoise, seahorse, seal, seasnake, slowworm, sole, stingray, toad, tuatara, tuna\n",
      "Procent ssaków: 11.54%\n",
      "\n",
      "Grupa 1\n",
      "Liczba zwierząt: 39\n",
      "Zwierzęta: aardvark, antelope, bear, boar, buffalo, calf, cavy, cheetah, deer, elephant, fruitbat, giraffe, goat, gorilla, hamster, hare, leopard, lion, lynx, mink, mole, mongoose, opossum, oryx, platypus, polecat, pony, puma, pussycat, raccoon, reindeer, sealion, squirrel, tortoise, vampire, vole, wallaby, wolf, X\n",
      "Procent ssaków: 94.87%\n",
      "\n",
      "Grupa 2\n",
      "Liczba zwierząt: 20\n",
      "Zwierzęta: chicken, crow, dove, duck, flamingo, gull, hawk, kiwi, lark, ostrich, parakeet, penguin, pheasant, rhea, skimmer, skua, sparrow, swan, vulture, wren\n",
      "Procent ssaków: 0.00%\n",
      "\n",
      "Grupa 3\n",
      "Liczba zwierząt: 18\n",
      "Zwierzęta: clam, crab, crayfish, flea, gnat, honeybee, housefly, ladybird, lobster, moth, octopus, scorpion, seawasp, slug, starfish, termite, wasp, worm\n",
      "Procent ssaków: 0.00%\n"
     ]
    }
   ],
   "source": [
    "class_info = pd.read_csv(\"dane/zoo_classes.csv\")  \n",
    "\n",
    "clustered = results.merge(class_info, on=\"animal_name\")\n",
    "\n",
    "for cluster_id in sorted(clustered[\"cluster\"].unique()):\n",
    "    group = clustered[clustered[\"cluster\"] == cluster_id]\n",
    "    total = len(group)\n",
    "    mammal_count = (group[\"class_type\"] == 1).sum()\n",
    "    mammal_percent = (mammal_count / total) * 100\n",
    "    \n",
    "    print(f\"\\nGrupa {cluster_id}\")\n",
    "    print(f\"Liczba zwierząt: {total}\")\n",
    "    print(\"Zwierzęta:\", \", \".join(group[\"animal_name\"]))\n",
    "    print(f\"Procent ssaków: {mammal_percent:.2f}%\")\n",
    "\n",
    "\n",
    "\n"
   ]
  },
  {
   "cell_type": "markdown",
   "metadata": {},
   "source": [
    "4. Sprawdź, do której grupy przypisany został ostatni, tajemniczy zwierz o nazwie `X`. Odpowiedz na pytanie, czy jest on ssakiem?"
   ]
  },
  {
   "cell_type": "code",
   "execution_count": 15,
   "metadata": {},
   "outputs": [
    {
     "name": "stdout",
     "output_type": "stream",
     "text": [
      "Grupa: 1\n",
      "Czy jest ssakiem? Nie (X)\n"
     ]
    }
   ],
   "source": [
    "x_info = clustered[clustered[\"animal_name\"] == \"X\"]\n",
    "\n",
    "cluster_id = x_info[\"cluster\"].values[0]\n",
    "is_mammal = x_info[\"class_type\"].values[0] == 1\n",
    "class_name = x_info[\"class_name\"].values[0]\n",
    "    \n",
    "print(f\"Grupa: {cluster_id}\")\n",
    "print(f\"Czy jest ssakiem? {'Tak' if is_mammal else 'Nie'} ({class_name})\")\n",
    "\n",
    "\n"
   ]
  }
 ],
 "metadata": {
  "celltoolbar": "Slideshow",
  "kernelspec": {
   "display_name": "Python 3",
   "language": "python",
   "name": "python3"
  },
  "language_info": {
   "codemirror_mode": {
    "name": "ipython",
    "version": 3
   },
   "file_extension": ".py",
   "mimetype": "text/x-python",
   "name": "python",
   "nbconvert_exporter": "python",
   "pygments_lexer": "ipython3",
   "version": "3.13.1"
  },
  "toc": {
   "base_numbering": 1,
   "nav_menu": {},
   "number_sections": true,
   "sideBar": true,
   "skip_h1_title": false,
   "title_cell": "Table of Contents",
   "title_sidebar": "Contents",
   "toc_cell": true,
   "toc_position": {},
   "toc_section_display": true,
   "toc_window_display": false
  },
  "varInspector": {
   "cols": {
    "lenName": 16,
    "lenType": 16,
    "lenVar": 40
   },
   "kernels_config": {
    "python": {
     "delete_cmd_postfix": "",
     "delete_cmd_prefix": "del ",
     "library": "var_list.py",
     "varRefreshCmd": "print(var_dic_list())"
    },
    "r": {
     "delete_cmd_postfix": ") ",
     "delete_cmd_prefix": "rm(",
     "library": "var_list.r",
     "varRefreshCmd": "cat(var_dic_list()) "
    }
   },
   "types_to_exclude": [
    "module",
    "function",
    "builtin_function_or_method",
    "instance",
    "_Feature"
   ],
   "window_display": false
  }
 },
 "nbformat": 4,
 "nbformat_minor": 4
}
